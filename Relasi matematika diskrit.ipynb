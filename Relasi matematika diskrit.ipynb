{
 "cells": [
  {
   "attachments": {},
   "cell_type": "markdown",
   "metadata": {},
   "source": [
    "Diberikan sebuah himpunan <br>\n",
    "r = {2, 4, 6, 7}<br>\n",
    "s = {3, 4, 5, 6, 7, 9}<br>\n",
    "Nyatakan relasi jika r ditambah 2 sama dengan s"
   ]
  },
  {
   "cell_type": "code",
   "execution_count": 11,
   "metadata": {},
   "outputs": [
    {
     "name": "stdout",
     "output_type": "stream",
     "text": [
      "(2,4) = 4\n",
      "(4,6) = 6\n",
      "(7,9) = 9\n",
      "\n",
      "R = [(2, 4), (4, 6), (7, 9)]\n"
     ]
    }
   ],
   "source": [
    "r = [2,4,6,7]\n",
    "s = [3,4,5,6,7,9]\n",
    "r1 = []\n",
    "for i in r:\n",
    "    if i + 2 in s:\n",
    "        print(f\"({i},{i+2}) = {i+2}\")\n",
    "        r1.append((i,i+2))\n",
    "print()\n",
    "print(f\"R = {r1}\")"
   ]
  },
  {
   "attachments": {},
   "cell_type": "markdown",
   "metadata": {},
   "source": [
    "A = {2, 3, 4, 5}<br>\n",
    "B = {2, 4, 5, 9, 10, 16, 20, 25}<br>\n",
    "Nyatakan jika A akar dari B"
   ]
  },
  {
   "cell_type": "code",
   "execution_count": 23,
   "metadata": {},
   "outputs": [
    {
     "name": "stdout",
     "output_type": "stream",
     "text": [
      "(2, 4) (3, 9) (4, 16) (5, 25) \n",
      "R = [(2, 4), (3, 9), (4, 16), (5, 25)]\n"
     ]
    }
   ],
   "source": [
    "A = {2, 3, 4, 5}\n",
    "B = {2, 4, 5, 9, 10, 16, 20, 25}\n",
    "r2 = []\n",
    "for i in A:\n",
    "    if i**2 in B:\n",
    "        print(f\"{i,i**2}\", end=\" \")\n",
    "        r2.append((i,i**2))\n",
    "print()\n",
    "print(f\"R = {r2}\")"
   ]
  },
  {
   "attachments": {},
   "cell_type": "markdown",
   "metadata": {},
   "source": [
    "p = {2,4,6}<br>\n",
    "q = {3,4,5,7}<br>\n",
    "Nyatakan relasi jika p kurang dari q"
   ]
  },
  {
   "cell_type": "code",
   "execution_count": 38,
   "metadata": {},
   "outputs": [
    {
     "name": "stdout",
     "output_type": "stream",
     "text": [
      "(2,3) (2,4) (2,5) (2,7) (4,5) (4,7) (6,7) \n",
      "R = [(2, 3), (2, 4), (2, 5), (2, 7), (4, 5), (4, 7), (6, 7)]\n"
     ]
    }
   ],
   "source": [
    "p = [2,4,6]\n",
    "q = [3,4,5,7]\n",
    "r3 = []\n",
    "\n",
    "for i in p:\n",
    "    for j in q:\n",
    "        if i < j:\n",
    "            print(f\"({i},{j})\", end=\" \")\n",
    "            r3.append((i,j))\n",
    "print()\n",
    "print(f\"R = {r3}\")"
   ]
  },
  {
   "cell_type": "code",
   "execution_count": 57,
   "metadata": {},
   "outputs": [
    {
     "name": "stdout",
     "output_type": "stream",
     "text": [
      "{(2, 4)}\n",
      "[(3, 9), (4, 16), (5, 25)]\n"
     ]
    }
   ],
   "source": [
    "a = {(2,4), (3,9), (4,16), (5,25)}\n",
    "b = {(2,3), (2,4), (2,5), (2,7), (4,5), (4,7), (6,7)}\n",
    "c = {(2, 4), (4,6),(7,9)}\n",
    "\n",
    "print(a.intersection(b).intersection(c))\n",
    "print(sorted(a.difference(b)))"
   ]
  },
  {
   "cell_type": "code",
   "execution_count": 16,
   "metadata": {},
   "outputs": [
    {
     "name": "stdout",
     "output_type": "stream",
     "text": [
      "R1={('c', 'c'), ('a', 'a'), ('b', 'b')}\n",
      "R2={('a', 'a'), ('a', 'b'), ('a', 'd'), ('a', 'c')}\n",
      "\n",
      "R1 ∩ R2 = {('a', 'a')}\n",
      "R1 ∪ R2 = {('a', 'b'), ('a', 'd'), ('a', 'a'), ('c', 'c'), ('b', 'b'), ('a', 'c')}\n",
      "R1-R2 = {('c', 'c'), ('b', 'b')}\n",
      "R2-R2 = {('a', 'b'), ('a', 'd'), ('a', 'c')}\n"
     ]
    }
   ],
   "source": [
    "r1 = {('a','a'),('b','b'),('c','c')}\n",
    "r2 = {('a','a'),('a','b'),('a','c'),('a','d')}\n",
    "\n",
    "print(f\"R1={r1}\\nR2={r2}\\n\")\n",
    "#operasi irisan\n",
    "print(f\"R1 ∩ R2 = {r1.intersection(r2)}\")\n",
    "\n",
    "#Operasi gabungan\n",
    "print(f\"R1 ∪ R2 = {r1.union(r2)}\")\n",
    "\n",
    "#Selisih\n",
    "print(f\"R1-R2 = {r1.difference(r2)}\")\n",
    "print(f\"R2-R2 = {r2.difference(r1)}\")\n"
   ]
  }
 ],
 "metadata": {
  "kernelspec": {
   "display_name": "Python 3",
   "language": "python",
   "name": "python3"
  },
  "language_info": {
   "codemirror_mode": {
    "name": "ipython",
    "version": 3
   },
   "file_extension": ".py",
   "mimetype": "text/x-python",
   "name": "python",
   "nbconvert_exporter": "python",
   "pygments_lexer": "ipython3",
   "version": "3.9.2"
  },
  "orig_nbformat": 4
 },
 "nbformat": 4,
 "nbformat_minor": 2
}
